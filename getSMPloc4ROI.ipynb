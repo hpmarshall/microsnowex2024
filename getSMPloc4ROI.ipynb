{
 "cells": [
  {
   "cell_type": "code",
   "execution_count": 3,
   "id": "df2fd3b3-4763-4c3a-8c57-ae8d196a30b6",
   "metadata": {},
   "outputs": [],
   "source": [
    "from snowexsql.api import LayerMeasurements\n",
    "import geopandas as gpd\n",
    "import numpy as np\n",
    "import pandas as pd"
   ]
  },
  {
   "cell_type": "markdown",
   "id": "a0a17215-eb43-41b4-9fbb-23b0506f58bf",
   "metadata": {},
   "source": [
    "get ROI and project"
   ]
  },
  {
   "cell_type": "code",
   "execution_count": 4,
   "id": "c3b292e8-d38f-4de8-a07e-11aeb5ca3177",
   "metadata": {},
   "outputs": [
    {
     "data": {
      "text/plain": [
       "0    POLYGON ((741035.608 4323122.77, 742806.873 43...\n",
       "Name: geometry, dtype: geometry"
      ]
     },
     "execution_count": 4,
     "metadata": {},
     "output_type": "execute_result"
    }
   ],
   "source": [
    "df2 = gpd.read_file(\"swesarr-roi.shp\")\n",
    "df2.crs\n",
    "gdf = df2.to_crs(26912)\n",
    "gdf.geometry"
   ]
  },
  {
   "cell_type": "markdown",
   "id": "31b57a65-da84-4bb0-bef0-209feff7e9a3",
   "metadata": {},
   "source": [
    "Grab all SMP files within SWESARR ROI"
   ]
  },
  {
   "cell_type": "code",
   "execution_count": 5,
   "id": "c21a579c-c438-4995-ad5a-35538e623aaf",
   "metadata": {},
   "outputs": [],
   "source": [
    "s=LayerMeasurements.from_area(shp=gdf.geometry[0], instrument='snowmicropen', site_name='Grand Mesa', limit=276255)"
   ]
  },
  {
   "cell_type": "markdown",
   "id": "43e2bccc-d763-4a8b-a877-583ce1d6e314",
   "metadata": {},
   "source": [
    "Get unique SMP file names for processing"
   ]
  },
  {
   "cell_type": "code",
   "execution_count": 6,
   "id": "8f4ba8c3-256c-4c09-9405-4a696b0de4ad",
   "metadata": {},
   "outputs": [],
   "source": [
    "SMPfiles4ROI=np.unique(s['comments'])"
   ]
  },
  {
   "cell_type": "code",
   "execution_count": 11,
   "id": "5d1aa6e4-62bd-498f-b199-f89fab6224c7",
   "metadata": {},
   "outputs": [
    {
     "data": {
      "text/plain": [
       "array(['fname = SNEX20_SMP_S19M0798_1S1_20200129.CSV, serial no. = 19',\n",
       "       'fname = SNEX20_SMP_S19M0799_1S1_20200129.CSV, serial no. = 19',\n",
       "       'fname = SNEX20_SMP_S19M0800_1S1_20200129.CSV, serial no. = 19',\n",
       "       'fname = SNEX20_SMP_S19M0801_1S1_20200129.CSV, serial no. = 19',\n",
       "       'fname = SNEX20_SMP_S19M0802_1S1_20200129.CSV, serial no. = 19',\n",
       "       'fname = SNEX20_SMP_S19M0803_1S1_20200129.CSV, serial no. = 19',\n",
       "       'fname = SNEX20_SMP_S19M0804_1S1_20200129.CSV, serial no. = 19',\n",
       "       'fname = SNEX20_SMP_S19M0805_1S1_20200129.CSV, serial no. = 19',\n",
       "       'fname = SNEX20_SMP_S19M0806_1S1_20200129.CSV, serial no. = 19',\n",
       "       'fname = SNEX20_SMP_S19M0807_1S1_20200129.CSV, serial no. = 19',\n",
       "       'fname = SNEX20_SMP_S19M0808_1S1_20200129.CSV, serial no. = 19',\n",
       "       'fname = SNEX20_SMP_S19M0809_1S1_20200129.CSV, serial no. = 19',\n",
       "       'fname = SNEX20_SMP_S19M0810_1S1_20200129.CSV, serial no. = 19',\n",
       "       'fname = SNEX20_SMP_S19M0811_1S1_20200129.CSV, serial no. = 19',\n",
       "       'fname = SNEX20_SMP_S19M0812_1S1_20200129.CSV, serial no. = 19',\n",
       "       'fname = SNEX20_SMP_S19M0813_1S1_20200129.CSV, serial no. = 19',\n",
       "       'fname = SNEX20_SMP_S19M0814_1S1_20200129.CSV, serial no. = 19',\n",
       "       'fname = SNEX20_SMP_S19M0815_1S1_20200129.CSV, serial no. = 19',\n",
       "       'fname = SNEX20_SMP_S19M0816_1S1_20200129.CSV, serial no. = 19',\n",
       "       'fname = SNEX20_SMP_S19M0817_1S1_20200129.CSV, serial no. = 19',\n",
       "       'fname = SNEX20_SMP_S19M0818_1S1_20200129.CSV, serial no. = 19',\n",
       "       'fname = SNEX20_SMP_S19M0819_1S1_20200129.CSV, serial no. = 19',\n",
       "       'fname = SNEX20_SMP_S19M0820_1S1_20200129.CSV, serial no. = 19',\n",
       "       'fname = SNEX20_SMP_S19M0821_1S1_20200129.CSV, serial no. = 19',\n",
       "       'fname = SNEX20_SMP_S19M0822_2S3_20200129.CSV, serial no. = 19',\n",
       "       'fname = SNEX20_SMP_S19M0823_2S3_20200129.CSV, serial no. = 19',\n",
       "       'fname = SNEX20_SMP_S19M0824_2S3_20200129.CSV, serial no. = 19',\n",
       "       'fname = SNEX20_SMP_S19M0825_2S3_20200129.CSV, serial no. = 19',\n",
       "       'fname = SNEX20_SMP_S19M0826_2S3_20200129.CSV, serial no. = 19',\n",
       "       'fname = SNEX20_SMP_S19M0827_2S3_20200129.CSV, serial no. = 19',\n",
       "       'fname = SNEX20_SMP_S19M0828_2S3_20200129.CSV, serial no. = 19',\n",
       "       'fname = SNEX20_SMP_S19M0829_2S3_20200129.CSV, serial no. = 19',\n",
       "       'fname = SNEX20_SMP_S19M0830_2S3_20200129.CSV, serial no. = 19',\n",
       "       'fname = SNEX20_SMP_S19M0831_2S3_20200129.CSV, serial no. = 19',\n",
       "       'fname = SNEX20_SMP_S19M0832_2S3_20200129.CSV, serial no. = 19',\n",
       "       'fname = SNEX20_SMP_S19M0833_2S3_20200129.CSV, serial no. = 19',\n",
       "       'fname = SNEX20_SMP_S19M0834_2S3_20200129.CSV, serial no. = 19',\n",
       "       'fname = SNEX20_SMP_S19M0835_2S3_20200129.CSV, serial no. = 19',\n",
       "       'fname = SNEX20_SMP_S19M0836_2S3_20200129.CSV, serial no. = 19',\n",
       "       'fname = SNEX20_SMP_S19M0837_2S3_20200129.CSV, serial no. = 19',\n",
       "       'fname = SNEX20_SMP_S19M0838_2S3_20200129.CSV, serial no. = 19',\n",
       "       'fname = SNEX20_SMP_S19M0839_2S3_20200129.CSV, serial no. = 19',\n",
       "       'fname = SNEX20_SMP_S19M0840_2S3_20200129.CSV, serial no. = 19',\n",
       "       'fname = SNEX20_SMP_S19M0841_2S3_20200129.CSV, serial no. = 19',\n",
       "       'fname = SNEX20_SMP_S19M0842_2S3_20200129.CSV, serial no. = 19',\n",
       "       'fname = SNEX20_SMP_S19M0843_2S3_20200129.CSV, serial no. = 19',\n",
       "       'fname = SNEX20_SMP_S19M0844_2S3_20200129.CSV, serial no. = 19',\n",
       "       'fname = SNEX20_SMP_S19M0845_2S3_20200129.CSV, serial no. = 19',\n",
       "       'fname = SNEX20_SMP_S19M0846_3S5_20200129.CSV, serial no. = 19',\n",
       "       'fname = SNEX20_SMP_S19M0903_1S8_20200201.CSV, serial no. = 19',\n",
       "       'fname = SNEX20_SMP_S19M0904_1S8_20200201.CSV, serial no. = 19',\n",
       "       'fname = SNEX20_SMP_S19M0905_1S8_20200201.CSV, serial no. = 19',\n",
       "       'fname = SNEX20_SMP_S19M0906_1S8_20200201.CSV, serial no. = 19',\n",
       "       'fname = SNEX20_SMP_S19M0907_1S8_20200201.CSV, serial no. = 19',\n",
       "       'fname = SNEX20_SMP_S19M0908_1S8_20200201.CSV, serial no. = 19',\n",
       "       'fname = SNEX20_SMP_S19M0909_1S8_20200201.CSV, serial no. = 19',\n",
       "       'fname = SNEX20_SMP_S19M0910_1S8_20200201.CSV, serial no. = 19',\n",
       "       'fname = SNEX20_SMP_S19M0911_1S8_20200201.CSV, serial no. = 19',\n",
       "       'fname = SNEX20_SMP_S19M0912_1S8_20200201.CSV, serial no. = 19',\n",
       "       'fname = SNEX20_SMP_S19M0913_1S8_20200201.CSV, serial no. = 19',\n",
       "       'fname = SNEX20_SMP_S19M0914_1S8_20200201.CSV, serial no. = 19',\n",
       "       'fname = SNEX20_SMP_S19M0915_1S8_20200201.CSV, serial no. = 19',\n",
       "       'fname = SNEX20_SMP_S19M0916_1S8_20200201.CSV, serial no. = 19',\n",
       "       'fname = SNEX20_SMP_S19M0917_1S8_20200201.CSV, serial no. = 19',\n",
       "       'fname = SNEX20_SMP_S19M0918_1S8_20200201.CSV, serial no. = 19',\n",
       "       'fname = SNEX20_SMP_S19M0919_1S8_20200201.CSV, serial no. = 19',\n",
       "       'fname = SNEX20_SMP_S19M0920_1S8_20200201.CSV, serial no. = 19',\n",
       "       'fname = SNEX20_SMP_S19M0921_1S8_20200201.CSV, serial no. = 19',\n",
       "       'fname = SNEX20_SMP_S19M0922_1S8_20200201.CSV, serial no. = 19',\n",
       "       'fname = SNEX20_SMP_S19M0923_1S8_20200201.CSV, serial no. = 19',\n",
       "       'fname = SNEX20_SMP_S19M0924_1S8_20200201.CSV, serial no. = 19',\n",
       "       'fname = SNEX20_SMP_S19M0925_1S8_20200201.CSV, serial no. = 19',\n",
       "       'fname = SNEX20_SMP_S19M0926_1S8_20200201.CSV, serial no. = 19',\n",
       "       'fname = SNEX20_SMP_S19M0927_1S8_20200201.CSV, serial no. = 19',\n",
       "       'fname = SNEX20_SMP_S19M0928_1S8_20200201.CSV, serial no. = 19',\n",
       "       'fname = SNEX20_SMP_S19M0929_1S8_20200201.CSV, serial no. = 19',\n",
       "       'fname = SNEX20_SMP_S19M0930_1S8_20200201.CSV, serial no. = 19',\n",
       "       'fname = SNEX20_SMP_S19M0931_1S8_20200201.CSV, serial no. = 19',\n",
       "       'fname = SNEX20_SMP_S19M0932_1S8_20200201.CSV, serial no. = 19',\n",
       "       'fname = SNEX20_SMP_S19M0933_1S8_20200201.CSV, serial no. = 19',\n",
       "       'fname = SNEX20_SMP_S19M0934_1S8_20200201.CSV, serial no. = 19',\n",
       "       'fname = SNEX20_SMP_S19M0935_1S8_20200201.CSV, serial no. = 19',\n",
       "       'fname = SNEX20_SMP_S19M0936_1S8_20200201.CSV, serial no. = 19',\n",
       "       'fname = SNEX20_SMP_S19M0937_1S8_20200201.CSV, serial no. = 19',\n",
       "       'fname = SNEX20_SMP_S19M0938_1S8_20200201.CSV, serial no. = 19',\n",
       "       'fname = SNEX20_SMP_S19M0939_1S8_20200201.CSV, serial no. = 19',\n",
       "       'fname = SNEX20_SMP_S19M0940_1S8_20200201.CSV, serial no. = 19',\n",
       "       'fname = SNEX20_SMP_S19M0941_1S8_20200201.CSV, serial no. = 19',\n",
       "       'fname = SNEX20_SMP_S19M0944_1S8_20200201.CSV, serial no. = 19',\n",
       "       'fname = SNEX20_SMP_S19M1214_1S2_20200208.CSV, serial no. = 19',\n",
       "       'fname = SNEX20_SMP_S19M1215_1S2_20200208.CSV, serial no. = 19',\n",
       "       'fname = SNEX20_SMP_S19M1216_1S2_20200208.CSV, serial no. = 19',\n",
       "       'fname = SNEX20_SMP_S19M1217_1S2_20200208.CSV, serial no. = 19',\n",
       "       'fname = SNEX20_SMP_S19M1218_1S2_20200208.CSV, serial no. = 19',\n",
       "       'fname = SNEX20_SMP_S19M1220_1S2_20200208.CSV, serial no. = 19',\n",
       "       'fname = SNEX20_SMP_S19M1221_1S2_20200208.CSV, serial no. = 19',\n",
       "       'fname = SNEX20_SMP_S19M1222_1S2_20200208.CSV, serial no. = 19',\n",
       "       'fname = SNEX20_SMP_S19M1224_1S2_20200208.CSV, serial no. = 19',\n",
       "       'fname = SNEX20_SMP_S19M1225_1S2_20200208.CSV, serial no. = 19',\n",
       "       'fname = SNEX20_SMP_S19M1226_1S2_20200208.CSV, serial no. = 19',\n",
       "       'fname = SNEX20_SMP_S19M1228_1S2_20200208.CSV, serial no. = 19',\n",
       "       'fname = SNEX20_SMP_S19M1230_1S2_20200208.CSV, serial no. = 19',\n",
       "       'fname = SNEX20_SMP_S19M1233_1S2_20200208.CSV, serial no. = 19',\n",
       "       'fname = SNEX20_SMP_S19M1234_1S2_20200208.CSV, serial no. = 19',\n",
       "       'fname = SNEX20_SMP_S19M1235_1S2_20200208.CSV, serial no. = 19',\n",
       "       'fname = SNEX20_SMP_S19M1236_2S7_20200208.CSV, serial no. = 19',\n",
       "       'fname = SNEX20_SMP_S19M1237_2S7_20200208.CSV, serial no. = 19',\n",
       "       'fname = SNEX20_SMP_S19M1239_2S7_20200208.CSV, serial no. = 19',\n",
       "       'fname = SNEX20_SMP_S19M1240_2S7_20200208.CSV, serial no. = 19',\n",
       "       'fname = SNEX20_SMP_S19M1241_2S7_20200208.CSV, serial no. = 19',\n",
       "       'fname = SNEX20_SMP_S19M1242_2S7_20200208.CSV, serial no. = 19',\n",
       "       'fname = SNEX20_SMP_S19M1243_2S7_20200208.CSV, serial no. = 19',\n",
       "       'fname = SNEX20_SMP_S19M1244_2S7_20200208.CSV, serial no. = 19',\n",
       "       'fname = SNEX20_SMP_S19M1245_2S7_20200208.CSV, serial no. = 19',\n",
       "       'fname = SNEX20_SMP_S19M1246_2S7_20200208.CSV, serial no. = 19',\n",
       "       'fname = SNEX20_SMP_S19M1247_2S7_20200208.CSV, serial no. = 19',\n",
       "       'fname = SNEX20_SMP_S19M1249_2S7_20200208.CSV, serial no. = 19',\n",
       "       'fname = SNEX20_SMP_S19M1250_2S7_20200208.CSV, serial no. = 19',\n",
       "       'fname = SNEX20_SMP_S19M1251_2S7_20200208.CSV, serial no. = 19',\n",
       "       'fname = SNEX20_SMP_S19M1254_2S7_20200208.CSV, serial no. = 19',\n",
       "       'fname = SNEX20_SMP_S19M1255_2S7_20200208.CSV, serial no. = 19',\n",
       "       'fname = SNEX20_SMP_S19M1256_2S7_20200208.CSV, serial no. = 19',\n",
       "       'fname = SNEX20_SMP_S19M1257_2S7_20200208.CSV, serial no. = 19'],\n",
       "      dtype=object)"
      ]
     },
     "execution_count": 11,
     "metadata": {},
     "output_type": "execute_result"
    }
   ],
   "source": [
    "SMPfiles4ROI"
   ]
  },
  {
   "cell_type": "code",
   "execution_count": 9,
   "id": "b8956934-12ff-4606-8472-8b3bdb8dd415",
   "metadata": {},
   "outputs": [],
   "source": [
    "df = pd.DataFrame(SMPfiles4ROI)\n",
    "df.to_csv('SMPfilenames4ROI.csv')"
   ]
  },
  {
   "cell_type": "code",
   "execution_count": 5,
   "id": "0d3f5e68-e100-4049-a52c-793512c1d15f",
   "metadata": {},
   "outputs": [],
   "source": [
    "gd=s['geom'].unique()"
   ]
  },
  {
   "cell_type": "code",
   "execution_count": 6,
   "id": "cb11b43f-074d-401d-b220-c3c26af5e9b4",
   "metadata": {
    "scrolled": true
   },
   "outputs": [
    {
     "data": {
      "text/html": [
       "<div style=\"width:100%;\"><div style=\"position:relative;width:100%;height:0;padding-bottom:60%;\"><span style=\"color:#565656\">Make this Notebook Trusted to load map: File -> Trust Notebook</span><iframe srcdoc=\"&lt;!DOCTYPE html&gt;\n",
       "&lt;html&gt;\n",
       "&lt;head&gt;\n",
       "    \n",
       "    &lt;meta http-equiv=&quot;content-type&quot; content=&quot;text/html; charset=UTF-8&quot; /&gt;\n",
       "    \n",
       "        &lt;script&gt;\n",
       "            L_NO_TOUCH = false;\n",
       "            L_DISABLE_3D = false;\n",
       "        &lt;/script&gt;\n",
       "    \n",
       "    &lt;style&gt;html, body {width: 100%;height: 100%;margin: 0;padding: 0;}&lt;/style&gt;\n",
       "    &lt;style&gt;#map {position:absolute;top:0;bottom:0;right:0;left:0;}&lt;/style&gt;\n",
       "    &lt;script src=&quot;https://cdn.jsdelivr.net/npm/leaflet@1.9.3/dist/leaflet.js&quot;&gt;&lt;/script&gt;\n",
       "    &lt;script src=&quot;https://code.jquery.com/jquery-3.7.1.min.js&quot;&gt;&lt;/script&gt;\n",
       "    &lt;script src=&quot;https://cdn.jsdelivr.net/npm/bootstrap@5.2.2/dist/js/bootstrap.bundle.min.js&quot;&gt;&lt;/script&gt;\n",
       "    &lt;script src=&quot;https://cdnjs.cloudflare.com/ajax/libs/Leaflet.awesome-markers/2.0.2/leaflet.awesome-markers.js&quot;&gt;&lt;/script&gt;\n",
       "    &lt;link rel=&quot;stylesheet&quot; href=&quot;https://cdn.jsdelivr.net/npm/leaflet@1.9.3/dist/leaflet.css&quot;/&gt;\n",
       "    &lt;link rel=&quot;stylesheet&quot; href=&quot;https://cdn.jsdelivr.net/npm/bootstrap@5.2.2/dist/css/bootstrap.min.css&quot;/&gt;\n",
       "    &lt;link rel=&quot;stylesheet&quot; href=&quot;https://netdna.bootstrapcdn.com/bootstrap/3.0.0/css/bootstrap-glyphicons.css&quot;/&gt;\n",
       "    &lt;link rel=&quot;stylesheet&quot; href=&quot;https://cdn.jsdelivr.net/npm/@fortawesome/fontawesome-free@6.2.0/css/all.min.css&quot;/&gt;\n",
       "    &lt;link rel=&quot;stylesheet&quot; href=&quot;https://cdnjs.cloudflare.com/ajax/libs/Leaflet.awesome-markers/2.0.2/leaflet.awesome-markers.css&quot;/&gt;\n",
       "    &lt;link rel=&quot;stylesheet&quot; href=&quot;https://cdn.jsdelivr.net/gh/python-visualization/folium/folium/templates/leaflet.awesome.rotate.min.css&quot;/&gt;\n",
       "    \n",
       "            &lt;meta name=&quot;viewport&quot; content=&quot;width=device-width,\n",
       "                initial-scale=1.0, maximum-scale=1.0, user-scalable=no&quot; /&gt;\n",
       "            &lt;style&gt;\n",
       "                #map_78dfec4b63b8da4452bde442ad4c3d43 {\n",
       "                    position: relative;\n",
       "                    width: 100.0%;\n",
       "                    height: 100.0%;\n",
       "                    left: 0.0%;\n",
       "                    top: 0.0%;\n",
       "                }\n",
       "                .leaflet-container { font-size: 1rem; }\n",
       "            &lt;/style&gt;\n",
       "        \n",
       "    \n",
       "                    &lt;style&gt;\n",
       "                        .foliumtooltip {\n",
       "                            \n",
       "                        }\n",
       "                       .foliumtooltip table{\n",
       "                            margin: auto;\n",
       "                        }\n",
       "                        .foliumtooltip tr{\n",
       "                            text-align: left;\n",
       "                        }\n",
       "                        .foliumtooltip th{\n",
       "                            padding: 2px; padding-right: 8px;\n",
       "                        }\n",
       "                    &lt;/style&gt;\n",
       "            \n",
       "&lt;/head&gt;\n",
       "&lt;body&gt;\n",
       "    \n",
       "    \n",
       "            &lt;div class=&quot;folium-map&quot; id=&quot;map_78dfec4b63b8da4452bde442ad4c3d43&quot; &gt;&lt;/div&gt;\n",
       "        \n",
       "&lt;/body&gt;\n",
       "&lt;script&gt;\n",
       "    \n",
       "    \n",
       "            var map_78dfec4b63b8da4452bde442ad4c3d43 = L.map(\n",
       "                &quot;map_78dfec4b63b8da4452bde442ad4c3d43&quot;,\n",
       "                {\n",
       "                    center: [39.02019946631332, -108.20167363138768],\n",
       "                    crs: L.CRS.EPSG3857,\n",
       "                    zoom: 10,\n",
       "                    zoomControl: true,\n",
       "                    preferCanvas: false,\n",
       "                }\n",
       "            );\n",
       "            L.control.scale().addTo(map_78dfec4b63b8da4452bde442ad4c3d43);\n",
       "\n",
       "            \n",
       "\n",
       "        \n",
       "    \n",
       "            var tile_layer_2c8927d9f53cd97b7e273739b4c9966a = L.tileLayer(\n",
       "                &quot;https://tile.openstreetmap.org/{z}/{x}/{y}.png&quot;,\n",
       "                {&quot;attribution&quot;: &quot;\\u0026copy; \\u003ca href=\\&quot;https://www.openstreetmap.org/copyright\\&quot;\\u003eOpenStreetMap\\u003c/a\\u003e contributors&quot;, &quot;detectRetina&quot;: false, &quot;maxNativeZoom&quot;: 19, &quot;maxZoom&quot;: 19, &quot;minZoom&quot;: 0, &quot;noWrap&quot;: false, &quot;opacity&quot;: 1, &quot;subdomains&quot;: &quot;abc&quot;, &quot;tms&quot;: false}\n",
       "            );\n",
       "        \n",
       "    \n",
       "            tile_layer_2c8927d9f53cd97b7e273739b4c9966a.addTo(map_78dfec4b63b8da4452bde442ad4c3d43);\n",
       "        \n",
       "    \n",
       "            map_78dfec4b63b8da4452bde442ad4c3d43.fitBounds(\n",
       "                [[39.01833981527559, -108.20628557771246], [39.022059117351056, -108.1970616850629]],\n",
       "                {}\n",
       "            );\n",
       "        \n",
       "    \n",
       "        function geo_json_97fd405a9da61d362964f2ed02694ead_styler(feature) {\n",
       "            switch(feature.id) {\n",
       "                default:\n",
       "                    return {&quot;fillOpacity&quot;: 0.5, &quot;weight&quot;: 2};\n",
       "            }\n",
       "        }\n",
       "        function geo_json_97fd405a9da61d362964f2ed02694ead_highlighter(feature) {\n",
       "            switch(feature.id) {\n",
       "                default:\n",
       "                    return {&quot;fillOpacity&quot;: 0.75};\n",
       "            }\n",
       "        }\n",
       "        function geo_json_97fd405a9da61d362964f2ed02694ead_pointToLayer(feature, latlng) {\n",
       "            var opts = {&quot;bubblingMouseEvents&quot;: true, &quot;color&quot;: &quot;#3388ff&quot;, &quot;dashArray&quot;: null, &quot;dashOffset&quot;: null, &quot;fill&quot;: true, &quot;fillColor&quot;: &quot;#3388ff&quot;, &quot;fillOpacity&quot;: 0.2, &quot;fillRule&quot;: &quot;evenodd&quot;, &quot;lineCap&quot;: &quot;round&quot;, &quot;lineJoin&quot;: &quot;round&quot;, &quot;opacity&quot;: 1.0, &quot;radius&quot;: 2, &quot;stroke&quot;: true, &quot;weight&quot;: 3};\n",
       "            \n",
       "            let style = geo_json_97fd405a9da61d362964f2ed02694ead_styler(feature)\n",
       "            Object.assign(opts, style)\n",
       "            \n",
       "            return new L.CircleMarker(latlng, opts)\n",
       "        }\n",
       "\n",
       "        function geo_json_97fd405a9da61d362964f2ed02694ead_onEachFeature(feature, layer) {\n",
       "            layer.on({\n",
       "                mouseout: function(e) {\n",
       "                    if(typeof e.target.setStyle === &quot;function&quot;){\n",
       "                            geo_json_97fd405a9da61d362964f2ed02694ead.resetStyle(e.target);\n",
       "                    }\n",
       "                },\n",
       "                mouseover: function(e) {\n",
       "                    if(typeof e.target.setStyle === &quot;function&quot;){\n",
       "                        const highlightStyle = geo_json_97fd405a9da61d362964f2ed02694ead_highlighter(e.target.feature)\n",
       "                        e.target.setStyle(highlightStyle);\n",
       "                    }\n",
       "                },\n",
       "            });\n",
       "        };\n",
       "        var geo_json_97fd405a9da61d362964f2ed02694ead = L.geoJson(null, {\n",
       "                onEachFeature: geo_json_97fd405a9da61d362964f2ed02694ead_onEachFeature,\n",
       "            \n",
       "                style: geo_json_97fd405a9da61d362964f2ed02694ead_styler,\n",
       "                pointToLayer: geo_json_97fd405a9da61d362964f2ed02694ead_pointToLayer,\n",
       "        });\n",
       "\n",
       "        function geo_json_97fd405a9da61d362964f2ed02694ead_add (data) {\n",
       "            geo_json_97fd405a9da61d362964f2ed02694ead\n",
       "                .addData(data);\n",
       "        }\n",
       "            geo_json_97fd405a9da61d362964f2ed02694ead_add({&quot;bbox&quot;: [-108.20628557771246, 39.01833981527559, -108.1970616850629, 39.022059117351056], &quot;features&quot;: [{&quot;bbox&quot;: [-108.20240986347633, 39.021029219955224, -108.20240986347633, 39.021029219955224], &quot;geometry&quot;: {&quot;coordinates&quot;: [-108.20240986347633, 39.021029219955224], &quot;type&quot;: &quot;Point&quot;}, &quot;id&quot;: &quot;0&quot;, &quot;properties&quot;: {}, &quot;type&quot;: &quot;Feature&quot;}, {&quot;bbox&quot;: [-108.19789327724486, 39.01849621593106, -108.19789327724486, 39.01849621593106], &quot;geometry&quot;: {&quot;coordinates&quot;: [-108.19789327724486, 39.01849621593106], &quot;type&quot;: &quot;Point&quot;}, &quot;id&quot;: &quot;1&quot;, &quot;properties&quot;: {}, &quot;type&quot;: &quot;Feature&quot;}, {&quot;bbox&quot;: [-108.19773306196382, 39.01896160442184, -108.19773306196382, 39.01896160442184], &quot;geometry&quot;: {&quot;coordinates&quot;: [-108.19773306196382, 39.01896160442184], &quot;type&quot;: &quot;Point&quot;}, &quot;id&quot;: &quot;2&quot;, &quot;properties&quot;: {}, &quot;type&quot;: &quot;Feature&quot;}, {&quot;bbox&quot;: [-108.20283710634763, 39.02062105514906, -108.20283710634763, 39.02062105514906], &quot;geometry&quot;: {&quot;coordinates&quot;: [-108.20283710634763, 39.02062105514906], &quot;type&quot;: &quot;Point&quot;}, &quot;id&quot;: &quot;3&quot;, &quot;properties&quot;: {}, &quot;type&quot;: &quot;Feature&quot;}, {&quot;bbox&quot;: [-108.1978932777715, 39.01869839380673, -108.1978932777715, 39.01869839380673], &quot;geometry&quot;: {&quot;coordinates&quot;: [-108.1978932777715, 39.01869839380673], &quot;type&quot;: &quot;Point&quot;}, &quot;id&quot;: &quot;4&quot;, &quot;properties&quot;: {}, &quot;type&quot;: &quot;Feature&quot;}, {&quot;bbox&quot;: [-108.20311939364737, 39.02100252642258, -108.20311939364737, 39.02100252642258], &quot;geometry&quot;: {&quot;coordinates&quot;: [-108.20311939364737, 39.02100252642258], &quot;type&quot;: &quot;Point&quot;}, &quot;id&quot;: &quot;5&quot;, &quot;properties&quot;: {}, &quot;type&quot;: &quot;Feature&quot;}, {&quot;bbox&quot;: [-108.19768728504044, 39.018660244346876, -108.19768728504044, 39.018660244346876], &quot;geometry&quot;: {&quot;coordinates&quot;: [-108.19768728504044, 39.018660244346876], &quot;type&quot;: &quot;Point&quot;}, &quot;id&quot;: &quot;6&quot;, &quot;properties&quot;: {}, &quot;type&quot;: &quot;Feature&quot;}, {&quot;bbox&quot;: [-108.20289814268855, 39.02114748124613, -108.20289814268855, 39.02114748124613], &quot;geometry&quot;: {&quot;coordinates&quot;: [-108.20289814268855, 39.02114748124613], &quot;type&quot;: &quot;Point&quot;}, &quot;id&quot;: &quot;7&quot;, &quot;properties&quot;: {}, &quot;type&quot;: &quot;Feature&quot;}, {&quot;bbox&quot;: [-108.19776357868709, 39.01869076275882, -108.19776357868709, 39.01869076275882], &quot;geometry&quot;: {&quot;coordinates&quot;: [-108.19776357868709, 39.01869076275882], &quot;type&quot;: &quot;Point&quot;}, &quot;id&quot;: &quot;8&quot;, &quot;properties&quot;: {}, &quot;type&quot;: &quot;Feature&quot;}, {&quot;bbox&quot;: [-108.20291340219852, 39.02142976747666, -108.20291340219852, 39.02142976747666], &quot;geometry&quot;: {&quot;coordinates&quot;: [-108.20291340219852, 39.02142976747666], &quot;type&quot;: &quot;Point&quot;}, &quot;id&quot;: &quot;9&quot;, &quot;properties&quot;: {}, &quot;type&quot;: &quot;Feature&quot;}, {&quot;bbox&quot;: [-108.19797719976033, 39.01833981527559, -108.19797719976033, 39.01833981527559], &quot;geometry&quot;: {&quot;coordinates&quot;: [-108.19797719976033, 39.01833981527559], &quot;type&quot;: &quot;Point&quot;}, &quot;id&quot;: &quot;10&quot;, &quot;properties&quot;: {}, &quot;type&quot;: &quot;Feature&quot;}, {&quot;bbox&quot;: [-108.19774832050895, 39.018896755113296, -108.19774832050895, 39.018896755113296], &quot;geometry&quot;: {&quot;coordinates&quot;: [-108.19774832050895, 39.018896755113296], &quot;type&quot;: &quot;Point&quot;}, &quot;id&quot;: &quot;11&quot;, &quot;properties&quot;: {}, &quot;type&quot;: &quot;Feature&quot;}, {&quot;bbox&quot;: [-108.20289814243083, 39.02105592901923, -108.20289814243083, 39.02105592901923], &quot;geometry&quot;: {&quot;coordinates&quot;: [-108.20289814243083, 39.02105592901923], &quot;type&quot;: &quot;Point&quot;}, &quot;id&quot;: &quot;12&quot;, &quot;properties&quot;: {}, &quot;type&quot;: &quot;Feature&quot;}, {&quot;bbox&quot;: [-108.1984120739698, 39.01867551252195, -108.1984120739698, 39.01867551252195], &quot;geometry&quot;: {&quot;coordinates&quot;: [-108.1984120739698, 39.01867551252195], &quot;type&quot;: &quot;Point&quot;}, &quot;id&quot;: &quot;13&quot;, &quot;properties&quot;: {}, &quot;type&quot;: &quot;Feature&quot;}, {&quot;bbox&quot;: [-108.20325672207122, 39.02099871352731, -108.20325672207122, 39.02099871352731], &quot;geometry&quot;: {&quot;coordinates&quot;: [-108.20325672207122, 39.02099871352731], &quot;type&quot;: &quot;Point&quot;}, &quot;id&quot;: &quot;14&quot;, &quot;properties&quot;: {}, &quot;type&quot;: &quot;Feature&quot;}, {&quot;bbox&quot;: [-108.19761099137425, 39.01862209658085, -108.19761099137425, 39.01862209658085], &quot;geometry&quot;: {&quot;coordinates&quot;: [-108.19761099137425, 39.01862209658085], &quot;type&quot;: &quot;Point&quot;}, &quot;id&quot;: &quot;15&quot;, &quot;properties&quot;: {}, &quot;type&quot;: &quot;Feature&quot;}, {&quot;bbox&quot;: [-108.20289814300001, 39.02125810685362, -108.20289814300001, 39.02125810685362], &quot;geometry&quot;: {&quot;coordinates&quot;: [-108.20289814300001, 39.02125810685362], &quot;type&quot;: &quot;Point&quot;}, &quot;id&quot;: &quot;16&quot;, &quot;properties&quot;: {}, &quot;type&quot;: &quot;Feature&quot;}, {&quot;bbox&quot;: [-108.19822896958804, 39.018744174313454, -108.19822896958804, 39.018744174313454], &quot;geometry&quot;: {&quot;coordinates&quot;: [-108.19822896958804, 39.018744174313454], &quot;type&quot;: &quot;Point&quot;}, &quot;id&quot;: &quot;17&quot;, &quot;properties&quot;: {}, &quot;type&quot;: &quot;Feature&quot;}, {&quot;bbox&quot;: [-108.20283710692703, 39.02082704766008, -108.20283710692703, 39.02082704766008], &quot;geometry&quot;: {&quot;coordinates&quot;: [-108.20283710692703, 39.02082704766008], &quot;type&quot;: &quot;Point&quot;}, &quot;id&quot;: &quot;18&quot;, &quot;properties&quot;: {}, &quot;type&quot;: &quot;Feature&quot;}, {&quot;bbox&quot;: [-108.19810689985998, 39.01873654336555, -108.19810689985998, 39.01873654336555], &quot;geometry&quot;: {&quot;coordinates&quot;: [-108.19810689985998, 39.01873654336555], &quot;type&quot;: &quot;Point&quot;}, &quot;id&quot;: &quot;19&quot;, &quot;properties&quot;: {}, &quot;type&quot;: &quot;Feature&quot;}, {&quot;bbox&quot;: [-108.19722952335164, 39.01854961273414, -108.19722952335164, 39.01854961273414], &quot;geometry&quot;: {&quot;coordinates&quot;: [-108.19722952335164, 39.01854961273414], &quot;type&quot;: &quot;Point&quot;}, &quot;id&quot;: &quot;20&quot;, &quot;properties&quot;: {}, &quot;type&quot;: &quot;Feature&quot;}, {&quot;bbox&quot;: [-108.20336353309754, 39.02100634426449, -108.20336353309754, 39.02100634426449], &quot;geometry&quot;: {&quot;coordinates&quot;: [-108.20336353309754, 39.02100634426449], &quot;type&quot;: &quot;Point&quot;}, &quot;id&quot;: &quot;21&quot;, &quot;properties&quot;: {}, &quot;type&quot;: &quot;Feature&quot;}, {&quot;bbox&quot;: [-108.20278370198258, 39.021025410126384, -108.20278370198258, 39.021025410126384], &quot;geometry&quot;: {&quot;coordinates&quot;: [-108.20278370198258, 39.021025410126384], &quot;type&quot;: &quot;Point&quot;}, &quot;id&quot;: &quot;22&quot;, &quot;properties&quot;: {}, &quot;type&quot;: &quot;Feature&quot;}, {&quot;bbox&quot;: [-108.19774832028092, 39.0188090175441, -108.19774832028092, 39.0188090175441], &quot;geometry&quot;: {&quot;coordinates&quot;: [-108.19774832028092, 39.0188090175441], &quot;type&quot;: &quot;Point&quot;}, &quot;id&quot;: &quot;23&quot;, &quot;properties&quot;: {}, &quot;type&quot;: &quot;Feature&quot;}, {&quot;bbox&quot;: [-108.20289051314847, 39.02108263165318, -108.20289051314847, 39.02108263165318], &quot;geometry&quot;: {&quot;coordinates&quot;: [-108.20289051314847, 39.02108263165318], &quot;type&quot;: &quot;Point&quot;}, &quot;id&quot;: &quot;24&quot;, &quot;properties&quot;: {}, &quot;type&quot;: &quot;Feature&quot;}, {&quot;bbox&quot;: [-108.19780172518303, 39.01858013762663, -108.19780172518303, 39.01858013762663], &quot;geometry&quot;: {&quot;coordinates&quot;: [-108.19780172518303, 39.01858013762663], &quot;type&quot;: &quot;Point&quot;}, &quot;id&quot;: &quot;25&quot;, &quot;properties&quot;: {}, &quot;type&quot;: &quot;Feature&quot;}, {&quot;bbox&quot;: [-108.20285999519251, 39.02089571212733, -108.20285999519251, 39.02089571212733], &quot;geometry&quot;: {&quot;coordinates&quot;: [-108.20285999519251, 39.02089571212733], &quot;type&quot;: &quot;Point&quot;}, &quot;id&quot;: &quot;26&quot;, &quot;properties&quot;: {}, &quot;type&quot;: &quot;Feature&quot;}, {&quot;bbox&quot;: [-108.19780172534178, 39.01864117245722, -108.19780172534178, 39.01864117245722], &quot;geometry&quot;: {&quot;coordinates&quot;: [-108.19780172534178, 39.01864117245722], &quot;type&quot;: &quot;Point&quot;}, &quot;id&quot;: &quot;27&quot;, &quot;properties&quot;: {}, &quot;type&quot;: &quot;Feature&quot;}, {&quot;bbox&quot;: [-108.20289814323627, 39.02134202972829, -108.20289814323627, 39.02134202972829], &quot;geometry&quot;: {&quot;coordinates&quot;: [-108.20289814323627, 39.02134202972829], &quot;type&quot;: &quot;Point&quot;}, &quot;id&quot;: &quot;28&quot;, &quot;properties&quot;: {}, &quot;type&quot;: &quot;Feature&quot;}, {&quot;bbox&quot;: [-108.19774069060695, 39.018686947782975, -108.19774069060695, 39.018686947782975], &quot;geometry&quot;: {&quot;coordinates&quot;: [-108.19774069060695, 39.018686947782975], &quot;type&quot;: &quot;Point&quot;}, &quot;id&quot;: &quot;29&quot;, &quot;properties&quot;: {}, &quot;type&quot;: &quot;Feature&quot;}, {&quot;bbox&quot;: [-108.2029057717883, 39.02105592911815, -108.2029057717883, 39.02105592911815], &quot;geometry&quot;: {&quot;coordinates&quot;: [-108.2029057717883, 39.02105592911815], &quot;type&quot;: &quot;Point&quot;}, &quot;id&quot;: &quot;30&quot;, &quot;properties&quot;: {}, &quot;type&quot;: &quot;Feature&quot;}, {&quot;bbox&quot;: [-108.19748892167667, 39.01862590966303, -108.19748892167667, 39.01862590966303], &quot;geometry&quot;: {&quot;coordinates&quot;: [-108.19748892167667, 39.01862590966303], &quot;type&quot;: &quot;Point&quot;}, &quot;id&quot;: &quot;31&quot;, &quot;properties&quot;: {}, &quot;type&quot;: &quot;Feature&quot;}, {&quot;bbox&quot;: [-108.20283710620815, 39.020571464359385, -108.20283710620815, 39.020571464359385], &quot;geometry&quot;: {&quot;coordinates&quot;: [-108.20283710620815, 39.020571464359385], &quot;type&quot;: &quot;Point&quot;}, &quot;id&quot;: &quot;32&quot;, &quot;properties&quot;: {}, &quot;type&quot;: &quot;Feature&quot;}, {&quot;bbox&quot;: [-108.19796194206178, 39.018728912118675, -108.19796194206178, 39.018728912118675], &quot;geometry&quot;: {&quot;coordinates&quot;: [-108.19796194206178, 39.018728912118675], &quot;type&quot;: &quot;Point&quot;}, &quot;id&quot;: &quot;33&quot;, &quot;properties&quot;: {}, &quot;type&quot;: &quot;Feature&quot;}, {&quot;bbox&quot;: [-108.20285236535213, 39.020724051602606, -108.20285236535213, 39.020724051602606], &quot;geometry&quot;: {&quot;coordinates&quot;: [-108.20285236535213, 39.020724051602606], &quot;type&quot;: &quot;Point&quot;}, &quot;id&quot;: &quot;34&quot;, &quot;properties&quot;: {}, &quot;type&quot;: &quot;Feature&quot;}, {&quot;bbox&quot;: [-108.20285999558965, 39.021036855144025, -108.20285999558965, 39.021036855144025], &quot;geometry&quot;: {&quot;coordinates&quot;: [-108.20285999558965, 39.021036855144025], &quot;type&quot;: &quot;Point&quot;}, &quot;id&quot;: &quot;35&quot;, &quot;properties&quot;: {}, &quot;type&quot;: &quot;Feature&quot;}, {&quot;bbox&quot;: [-108.20299732397072, 39.021017783544096, -108.20299732397072, 39.021017783544096], &quot;geometry&quot;: {&quot;coordinates&quot;: [-108.20299732397072, 39.021017783544096], &quot;type&quot;: &quot;Point&quot;}, &quot;id&quot;: &quot;36&quot;, &quot;properties&quot;: {}, &quot;type&quot;: &quot;Feature&quot;}, {&quot;bbox&quot;: [-108.20269214967131, 39.02101777958698, -108.20269214967131, 39.02101777958698], &quot;geometry&quot;: {&quot;coordinates&quot;: [-108.20269214967131, 39.02101777958698], &quot;type&quot;: &quot;Point&quot;}, &quot;id&quot;: &quot;37&quot;, &quot;properties&quot;: {}, &quot;type&quot;: &quot;Feature&quot;}, {&quot;bbox&quot;: [-108.20228779384166, 39.02105973578215, -108.20228779384166, 39.02105973578215], &quot;geometry&quot;: {&quot;coordinates&quot;: [-108.20228779384166, 39.02105973578215], &quot;type&quot;: &quot;Point&quot;}, &quot;id&quot;: &quot;38&quot;, &quot;properties&quot;: {}, &quot;type&quot;: &quot;Feature&quot;}, {&quot;bbox&quot;: [-108.20256245061542, 39.02102540725755, -108.20256245061542, 39.02102540725755], &quot;geometry&quot;: {&quot;coordinates&quot;: [-108.20256245061542, 39.02102540725755], &quot;type&quot;: &quot;Point&quot;}, &quot;id&quot;: &quot;39&quot;, &quot;properties&quot;: {}, &quot;type&quot;: &quot;Feature&quot;}, {&quot;bbox&quot;: [-108.20343219419726, 39.01990771845601, -108.20343219419726, 39.01990771845601], &quot;geometry&quot;: {&quot;coordinates&quot;: [-108.20343219419726, 39.01990771845601], &quot;type&quot;: &quot;Point&quot;}, &quot;id&quot;: &quot;40&quot;, &quot;properties&quot;: {}, &quot;type&quot;: &quot;Feature&quot;}, {&quot;bbox&quot;: [-108.20347034409147, 39.02100253097347, -108.20347034409147, 39.02100253097347], &quot;geometry&quot;: {&quot;coordinates&quot;: [-108.20347034409147, 39.02100253097347], &quot;type&quot;: &quot;Point&quot;}, &quot;id&quot;: &quot;41&quot;, &quot;properties&quot;: {}, &quot;type&quot;: &quot;Feature&quot;}, {&quot;bbox&quot;: [-108.20340167672543, 39.019892459354736, -108.20340167672543, 39.019892459354736], &quot;geometry&quot;: {&quot;coordinates&quot;: [-108.20340167672543, 39.019892459354736], &quot;type&quot;: &quot;Point&quot;}, &quot;id&quot;: &quot;42&quot;, &quot;properties&quot;: {}, &quot;type&quot;: &quot;Feature&quot;}, {&quot;bbox&quot;: [-108.203622928538, 39.02005267862615, -108.203622928538, 39.02005267862615], &quot;geometry&quot;: {&quot;coordinates&quot;: [-108.203622928538, 39.02005267862615], &quot;type&quot;: &quot;Point&quot;}, &quot;id&quot;: &quot;43&quot;, &quot;properties&quot;: {}, &quot;type&quot;: &quot;Feature&quot;}, {&quot;bbox&quot;: [-108.19778647431616, 39.0215975468675, -108.19778647431616, 39.0215975468675], &quot;geometry&quot;: {&quot;coordinates&quot;: [-108.19778647431616, 39.0215975468675], &quot;type&quot;: &quot;Point&quot;}, &quot;id&quot;: &quot;44&quot;, &quot;properties&quot;: {}, &quot;type&quot;: &quot;Feature&quot;}, {&quot;bbox&quot;: [-108.1977101806404, 39.021559399110735, -108.1977101806404, 39.021559399110735], &quot;geometry&quot;: {&quot;coordinates&quot;: [-108.1977101806404, 39.021559399110735], &quot;type&quot;: &quot;Point&quot;}, &quot;id&quot;: &quot;45&quot;, &quot;properties&quot;: {}, &quot;type&quot;: &quot;Feature&quot;}, {&quot;bbox&quot;: [-108.203767886444, 39.02009464194734, -108.203767886444, 39.02009464194734], &quot;geometry&quot;: {&quot;coordinates&quot;: [-108.203767886444, 39.02009464194734], &quot;type&quot;: &quot;Point&quot;}, &quot;id&quot;: &quot;46&quot;, &quot;properties&quot;: {}, &quot;type&quot;: &quot;Feature&quot;}, {&quot;bbox&quot;: [-108.20349322832833, 39.01965213595631, -108.20349322832833, 39.01965213595631], &quot;geometry&quot;: {&quot;coordinates&quot;: [-108.20349322832833, 39.01965213595631], &quot;type&quot;: &quot;Point&quot;}, &quot;id&quot;: &quot;47&quot;, &quot;properties&quot;: {}, &quot;type&quot;: &quot;Feature&quot;}, {&quot;bbox&quot;: [-108.19761862867495, 39.02168528226471, -108.19761862867495, 39.02168528226471], &quot;geometry&quot;: {&quot;coordinates&quot;: [-108.19761862867495, 39.02168528226471], &quot;type&quot;: &quot;Point&quot;}, &quot;id&quot;: &quot;48&quot;, &quot;properties&quot;: {}, &quot;type&quot;: &quot;Feature&quot;}, {&quot;bbox&quot;: [-108.2032490897557, 39.019953492186254, -108.2032490897557, 39.019953492186254], &quot;geometry&quot;: {&quot;coordinates&quot;: [-108.2032490897557, 39.019953492186254], &quot;type&quot;: &quot;Point&quot;}, &quot;id&quot;: &quot;49&quot;, &quot;properties&quot;: {}, &quot;type&quot;: &quot;Feature&quot;}, {&quot;bbox&quot;: [-108.19812216601382, 39.02158229250494, -108.19812216601382, 39.02158229250494], &quot;geometry&quot;: {&quot;coordinates&quot;: [-108.19812216601382, 39.02158229250494], &quot;type&quot;: &quot;Point&quot;}, &quot;id&quot;: &quot;50&quot;, &quot;properties&quot;: {}, &quot;type&quot;: &quot;Feature&quot;}, {&quot;bbox&quot;: [-108.20285236284079, 39.0198314173887, -108.20285236284079, 39.0198314173887], &quot;geometry&quot;: {&quot;coordinates&quot;: [-108.20285236284079, 39.0198314173887], &quot;type&quot;: &quot;Point&quot;}, &quot;id&quot;: &quot;51&quot;, &quot;properties&quot;: {}, &quot;type&quot;: &quot;Feature&quot;}, {&quot;bbox&quot;: [-108.19778647430623, 39.02159373219058, -108.19778647430623, 39.02159373219058], &quot;geometry&quot;: {&quot;coordinates&quot;: [-108.19778647430623, 39.02159373219058], &quot;type&quot;: &quot;Point&quot;}, &quot;id&quot;: &quot;52&quot;, &quot;properties&quot;: {}, &quot;type&quot;: &quot;Feature&quot;}, {&quot;bbox&quot;: [-108.2034550819654, 39.01980090782487, -108.2034550819654, 39.01980090782487], &quot;geometry&quot;: {&quot;coordinates&quot;: [-108.2034550819654, 39.01980090782487], &quot;type&quot;: &quot;Point&quot;}, &quot;id&quot;: &quot;53&quot;, &quot;properties&quot;: {}, &quot;type&quot;: &quot;Feature&quot;}, {&quot;bbox&quot;: [-108.19736686083641, 39.022059117351056, -108.19736686083641, 39.022059117351056], &quot;geometry&quot;: {&quot;coordinates&quot;: [-108.19736686083641, 39.022059117351056], &quot;type&quot;: &quot;Point&quot;}, &quot;id&quot;: &quot;54&quot;, &quot;properties&quot;: {}, &quot;type&quot;: &quot;Feature&quot;}, {&quot;bbox&quot;: [-108.20347796985257, 39.019736058630286, -108.20347796985257, 39.019736058630286], &quot;geometry&quot;: {&quot;coordinates&quot;: [-108.20347796985257, 39.019736058630286], &quot;type&quot;: &quot;Point&quot;}, &quot;id&quot;: &quot;55&quot;, &quot;properties&quot;: {}, &quot;type&quot;: &quot;Feature&quot;}, {&quot;bbox&quot;: [-108.19780173190037, 39.02116267389688, -108.19780173190037, 39.02116267389688], &quot;geometry&quot;: {&quot;coordinates&quot;: [-108.19780173190037, 39.02116267389688], &quot;type&quot;: &quot;Point&quot;}, &quot;id&quot;: &quot;56&quot;, &quot;properties&quot;: {}, &quot;type&quot;: &quot;Feature&quot;}, {&quot;bbox&quot;: [-108.20372211022476, 39.02006793862007, -108.20372211022476, 39.02006793862007], &quot;geometry&quot;: {&quot;coordinates&quot;: [-108.20372211022476, 39.02006793862007], &quot;type&quot;: &quot;Point&quot;}, &quot;id&quot;: &quot;57&quot;, &quot;properties&quot;: {}, &quot;type&quot;: &quot;Feature&quot;}, {&quot;bbox&quot;: [-108.19767203325802, 39.02133051800095, -108.19767203325802, 39.02133051800095], &quot;geometry&quot;: {&quot;coordinates&quot;: [-108.19767203325802, 39.02133051800095], &quot;type&quot;: &quot;Point&quot;}, &quot;id&quot;: &quot;58&quot;, &quot;properties&quot;: {}, &quot;type&quot;: &quot;Feature&quot;}, {&quot;bbox&quot;: [-108.20341693555872, 39.01993442098975, -108.20341693555872, 39.01993442098975], &quot;geometry&quot;: {&quot;coordinates&quot;: [-108.20341693555872, 39.01993442098975], &quot;type&quot;: &quot;Point&quot;}, &quot;id&quot;: &quot;59&quot;, &quot;properties&quot;: {}, &quot;type&quot;: &quot;Feature&quot;}, {&quot;bbox&quot;: [-108.19761099928756, 39.02167383813516, -108.19761099928756, 39.02167383813516], &quot;geometry&quot;: {&quot;coordinates&quot;: [-108.19761099928756, 39.02167383813516], &quot;type&quot;: &quot;Point&quot;}, &quot;id&quot;: &quot;60&quot;, &quot;properties&quot;: {}, &quot;type&quot;: &quot;Feature&quot;}, {&quot;bbox&quot;: [-108.20387469751, 39.02011753139213, -108.20387469751, 39.02011753139213], &quot;geometry&quot;: {&quot;coordinates&quot;: [-108.20387469751, 39.02011753139213], &quot;type&quot;: &quot;Point&quot;}, &quot;id&quot;: &quot;61&quot;, &quot;properties&quot;: {}, &quot;type&quot;: &quot;Feature&quot;}, {&quot;bbox&quot;: [-108.19761862868485, 39.02168909694166, -108.19761862868485, 39.02168909694166], &quot;geometry&quot;: {&quot;coordinates&quot;: [-108.19761862868485, 39.02168909694166], &quot;type&quot;: &quot;Point&quot;}, &quot;id&quot;: &quot;62&quot;, &quot;properties&quot;: {}, &quot;type&quot;: &quot;Feature&quot;}, {&quot;bbox&quot;: [-108.20331775441304, 39.02010989479785, -108.20331775441304, 39.02010989479785], &quot;geometry&quot;: {&quot;coordinates&quot;: [-108.20331775441304, 39.02010989479785], &quot;type&quot;: &quot;Point&quot;}, &quot;id&quot;: &quot;63&quot;, &quot;properties&quot;: {}, &quot;type&quot;: &quot;Feature&quot;}, {&quot;bbox&quot;: [-108.19764151671835, 39.021673838530056, -108.19764151671835, 39.021673838530056], &quot;geometry&quot;: {&quot;coordinates&quot;: [-108.19764151671835, 39.021673838530056], &quot;type&quot;: &quot;Point&quot;}, &quot;id&quot;: &quot;64&quot;, &quot;properties&quot;: {}, &quot;type&quot;: &quot;Feature&quot;}, {&quot;bbox&quot;: [-108.1977941036937, 39.02160517632007, -108.1977941036937, 39.02160517632007], &quot;geometry&quot;: {&quot;coordinates&quot;: [-108.1977941036937, 39.02160517632007], &quot;type&quot;: &quot;Point&quot;}, &quot;id&quot;: &quot;65&quot;, &quot;properties&quot;: {}, &quot;type&quot;: &quot;Feature&quot;}, {&quot;bbox&quot;: [-108.20340930633144, 39.01998019700299, -108.20340930633144, 39.01998019700299], &quot;geometry&quot;: {&quot;coordinates&quot;: [-108.20340930633144, 39.01998019700299], &quot;type&quot;: &quot;Point&quot;}, &quot;id&quot;: &quot;66&quot;, &quot;properties&quot;: {}, &quot;type&quot;: &quot;Feature&quot;}, {&quot;bbox&quot;: [-108.19825186518408, 39.02161662627533, -108.19825186518408, 39.02161662627533], &quot;geometry&quot;: {&quot;coordinates&quot;: [-108.19825186518408, 39.02161662627533], &quot;type&quot;: &quot;Point&quot;}, &quot;id&quot;: &quot;67&quot;, &quot;properties&quot;: {}, &quot;type&quot;: &quot;Feature&quot;}, {&quot;bbox&quot;: [-108.20310413186225, 39.01991534353945, -108.20310413186225, 39.01991534353945], &quot;geometry&quot;: {&quot;coordinates&quot;: [-108.20310413186225, 39.01991534353945], &quot;type&quot;: &quot;Point&quot;}, &quot;id&quot;: &quot;68&quot;, &quot;properties&quot;: {}, &quot;type&quot;: &quot;Feature&quot;}, {&quot;bbox&quot;: [-108.19745078247996, 39.021559395752924, -108.19745078247996, 39.021559395752924], &quot;geometry&quot;: {&quot;coordinates&quot;: [-108.19745078247996, 39.021559395752924], &quot;type&quot;: &quot;Point&quot;}, &quot;id&quot;: &quot;69&quot;, &quot;properties&quot;: {}, &quot;type&quot;: &quot;Feature&quot;}, {&quot;bbox&quot;: [-108.20338641814101, 39.019938235268725, -108.20338641814101, 39.019938235268725], &quot;geometry&quot;: {&quot;coordinates&quot;: [-108.20338641814101, 39.019938235268725], &quot;type&quot;: &quot;Point&quot;}, &quot;id&quot;: &quot;70&quot;, &quot;properties&quot;: {}, &quot;type&quot;: &quot;Feature&quot;}, {&quot;bbox&quot;: [-108.19777121556116, 39.02158228796234, -108.19777121556116, 39.02158228796234], &quot;geometry&quot;: {&quot;coordinates&quot;: [-108.19777121556116, 39.02158228796234], &quot;type&quot;: &quot;Point&quot;}, &quot;id&quot;: &quot;71&quot;, &quot;properties&quot;: {}, &quot;type&quot;: &quot;Feature&quot;}, {&quot;bbox&quot;: [-108.19761862865516, 39.021677652910824, -108.19761862865516, 39.021677652910824], &quot;geometry&quot;: {&quot;coordinates&quot;: [-108.19761862865516, 39.021677652910824], &quot;type&quot;: &quot;Point&quot;}, &quot;id&quot;: &quot;72&quot;, &quot;properties&quot;: {}, &quot;type&quot;: &quot;Feature&quot;}, {&quot;bbox&quot;: [-108.19760336995955, 39.02168528206727, -108.19760336995955, 39.02168528206727], &quot;geometry&quot;: {&quot;coordinates&quot;: [-108.19760336995955, 39.02168528206727], &quot;type&quot;: &quot;Point&quot;}, &quot;id&quot;: &quot;73&quot;, &quot;properties&quot;: {}, &quot;type&quot;: &quot;Feature&quot;}, {&quot;bbox&quot;: [-108.1970616850629, 39.0214907265297, -108.1970616850629, 39.0214907265297], &quot;geometry&quot;: {&quot;coordinates&quot;: [-108.1970616850629, 39.0214907265297], &quot;type&quot;: &quot;Point&quot;}, &quot;id&quot;: &quot;74&quot;, &quot;properties&quot;: {}, &quot;type&quot;: &quot;Feature&quot;}, {&quot;bbox&quot;: [-108.19800009630112, 39.02158610560179, -108.19800009630112, 39.02158610560179], &quot;geometry&quot;: {&quot;coordinates&quot;: [-108.19800009630112, 39.02158610560179], &quot;type&quot;: &quot;Point&quot;}, &quot;id&quot;: &quot;75&quot;, &quot;properties&quot;: {}, &quot;type&quot;: &quot;Feature&quot;}, {&quot;bbox&quot;: [-108.19748892994944, 39.021822608957095, -108.19748892994944, 39.021822608957095], &quot;geometry&quot;: {&quot;coordinates&quot;: [-108.19748892994944, 39.021822608957095], &quot;type&quot;: &quot;Point&quot;}, &quot;id&quot;: &quot;76&quot;, &quot;properties&quot;: {}, &quot;type&quot;: &quot;Feature&quot;}, {&quot;bbox&quot;: [-108.19759574042382, 39.02161661778355, -108.19759574042382, 39.02161661778355], &quot;geometry&quot;: {&quot;coordinates&quot;: [-108.19759574042382, 39.02161661778355], &quot;type&quot;: &quot;Point&quot;}, &quot;id&quot;: &quot;77&quot;, &quot;properties&quot;: {}, &quot;type&quot;: &quot;Feature&quot;}, {&quot;bbox&quot;: [-108.19743552468196, 39.02191416051364, -108.19743552468196, 39.02191416051364], &quot;geometry&quot;: {&quot;coordinates&quot;: [-108.19743552468196, 39.02191416051364], &quot;type&quot;: &quot;Point&quot;}, &quot;id&quot;: &quot;78&quot;, &quot;properties&quot;: {}, &quot;type&quot;: &quot;Feature&quot;}, {&quot;bbox&quot;: [-108.19758048136246, 39.02148310389289, -108.19758048136246, 39.02148310389289], &quot;geometry&quot;: {&quot;coordinates&quot;: [-108.19758048136246, 39.02148310389289], &quot;type&quot;: &quot;Point&quot;}, &quot;id&quot;: &quot;79&quot;, &quot;properties&quot;: {}, &quot;type&quot;: &quot;Feature&quot;}, {&quot;bbox&quot;: [-108.19768729194345, 39.02131907416782, -108.19768729194345, 39.02131907416782], &quot;geometry&quot;: {&quot;coordinates&quot;: [-108.19768729194345, 39.02131907416782], &quot;type&quot;: &quot;Point&quot;}, &quot;id&quot;: &quot;80&quot;, &quot;properties&quot;: {}, &quot;type&quot;: &quot;Feature&quot;}, {&quot;bbox&quot;: [-108.19768729288432, 39.02168146847626, -108.19768729288432, 39.02168146847626], &quot;geometry&quot;: {&quot;coordinates&quot;: [-108.19768729288432, 39.02168146847626], &quot;type&quot;: &quot;Point&quot;}, &quot;id&quot;: &quot;81&quot;, &quot;properties&quot;: {}, &quot;type&quot;: &quot;Feature&quot;}, {&quot;bbox&quot;: [-108.1973516008107, 39.02155176511508, -108.1973516008107, 39.02155176511508], &quot;geometry&quot;: {&quot;coordinates&quot;: [-108.1973516008107, 39.02155176511508], &quot;type&quot;: &quot;Point&quot;}, &quot;id&quot;: &quot;82&quot;, &quot;properties&quot;: {}, &quot;type&quot;: &quot;Feature&quot;}, {&quot;bbox&quot;: [-108.19777884492875, 39.02158610273801, -108.19777884492875, 39.02158610273801], &quot;geometry&quot;: {&quot;coordinates&quot;: [-108.19777884492875, 39.02158610273801], &quot;type&quot;: &quot;Point&quot;}, &quot;id&quot;: &quot;83&quot;, &quot;properties&quot;: {}, &quot;type&quot;: &quot;Feature&quot;}, {&quot;bbox&quot;: [-108.19760336994965, 39.02168146739033, -108.19760336994965, 39.02168146739033], &quot;geometry&quot;: {&quot;coordinates&quot;: [-108.19760336994965, 39.02168146739033], &quot;type&quot;: &quot;Point&quot;}, &quot;id&quot;: &quot;84&quot;, &quot;properties&quot;: {}, &quot;type&quot;: &quot;Feature&quot;}, {&quot;bbox&quot;: [-108.19851888703175, 39.019461337338306, -108.19851888703175, 39.019461337338306], &quot;geometry&quot;: {&quot;coordinates&quot;: [-108.19851888703175, 39.019461337338306], &quot;type&quot;: &quot;Point&quot;}, &quot;id&quot;: &quot;85&quot;, &quot;properties&quot;: {}, &quot;type&quot;: &quot;Feature&quot;}, {&quot;bbox&quot;: [-108.19730582462539, 39.02153650581456, -108.19730582462539, 39.02153650581456], &quot;geometry&quot;: {&quot;coordinates&quot;: [-108.19730582462539, 39.02153650581456], &quot;type&quot;: &quot;Point&quot;}, &quot;id&quot;: &quot;86&quot;, &quot;properties&quot;: {}, &quot;type&quot;: &quot;Feature&quot;}, {&quot;bbox&quot;: [-108.19759574068095, 39.02171579938412, -108.19759574068095, 39.02171579938412], &quot;geometry&quot;: {&quot;coordinates&quot;: [-108.19759574068095, 39.02171579938412], &quot;type&quot;: &quot;Point&quot;}, &quot;id&quot;: &quot;87&quot;, &quot;properties&quot;: {}, &quot;type&quot;: &quot;Feature&quot;}, {&quot;bbox&quot;: [-108.19777884494857, 39.02159373209184, -108.19777884494857, 39.02159373209184], &quot;geometry&quot;: {&quot;coordinates&quot;: [-108.19777884494857, 39.02159373209184], &quot;type&quot;: &quot;Point&quot;}, &quot;id&quot;: &quot;88&quot;, &quot;properties&quot;: {}, &quot;type&quot;: &quot;Feature&quot;}, {&quot;bbox&quot;: [-108.19787802652874, 39.02156703063724, -108.19787802652874, 39.02156703063724], &quot;geometry&quot;: {&quot;coordinates&quot;: [-108.19787802652874, 39.02156703063724], &quot;type&quot;: &quot;Point&quot;}, &quot;id&quot;: &quot;89&quot;, &quot;properties&quot;: {}, &quot;type&quot;: &quot;Feature&quot;}, {&quot;bbox&quot;: [-108.19719901352985, 39.02150217233875, -108.19719901352985, 39.02150217233875], &quot;geometry&quot;: {&quot;coordinates&quot;: [-108.19719901352985, 39.02150217233875], &quot;type&quot;: &quot;Point&quot;}, &quot;id&quot;: &quot;90&quot;, &quot;properties&quot;: {}, &quot;type&quot;: &quot;Feature&quot;}, {&quot;bbox&quot;: [-108.19777884493867, 39.02158991741492, -108.19777884493867, 39.02158991741492], &quot;geometry&quot;: {&quot;coordinates&quot;: [-108.19777884493867, 39.02158991741492], &quot;type&quot;: &quot;Point&quot;}, &quot;id&quot;: &quot;91&quot;, &quot;properties&quot;: {}, &quot;type&quot;: &quot;Feature&quot;}, {&quot;bbox&quot;: [-108.19759573999859, 39.021452586674876, -108.19759573999859, 39.021452586674876], &quot;geometry&quot;: {&quot;coordinates&quot;: [-108.19759573999859, 39.021452586674876], &quot;type&quot;: &quot;Point&quot;}, &quot;id&quot;: &quot;92&quot;, &quot;properties&quot;: {}, &quot;type&quot;: &quot;Feature&quot;}, {&quot;bbox&quot;: [-108.19752707660976, 39.021773018650045, -108.19752707660976, 39.021773018650045], &quot;geometry&quot;: {&quot;coordinates&quot;: [-108.19752707660976, 39.021773018650045], &quot;type&quot;: &quot;Point&quot;}, &quot;id&quot;: &quot;93&quot;, &quot;properties&quot;: {}, &quot;type&quot;: &quot;Feature&quot;}, {&quot;bbox&quot;: [-108.20556078871105, 39.02123143862344, -108.20556078871105, 39.02123143862344], &quot;geometry&quot;: {&quot;coordinates&quot;: [-108.20556078871105, 39.02123143862344], &quot;type&quot;: &quot;Point&quot;}, &quot;id&quot;: &quot;94&quot;, &quot;properties&quot;: {}, &quot;type&quot;: &quot;Feature&quot;}, {&quot;bbox&quot;: [-108.20569811627428, 39.020933895699486, -108.20569811627428, 39.020933895699486], &quot;geometry&quot;: {&quot;coordinates&quot;: [-108.20569811627428, 39.020933895699486], &quot;type&quot;: &quot;Point&quot;}, &quot;id&quot;: &quot;95&quot;, &quot;properties&quot;: {}, &quot;type&quot;: &quot;Feature&quot;}, {&quot;bbox&quot;: [-108.20569048634628, 39.020739347140534, -108.20569048634628, 39.020739347140534], &quot;geometry&quot;: {&quot;coordinates&quot;: [-108.20569048634628, 39.020739347140534], &quot;type&quot;: &quot;Point&quot;}, &quot;id&quot;: &quot;96&quot;, &quot;properties&quot;: {}, &quot;type&quot;: &quot;Feature&quot;}, {&quot;bbox&quot;: [-108.20557604741497, 39.02122762414545, -108.20557604741497, 39.02122762414545], &quot;geometry&quot;: {&quot;coordinates&quot;: [-108.20557604741497, 39.02122762414545], &quot;type&quot;: &quot;Point&quot;}, &quot;id&quot;: &quot;97&quot;, &quot;properties&quot;: {}, &quot;type&quot;: &quot;Feature&quot;}, {&quot;bbox&quot;: [-108.2055760474038, 39.021223809469745, -108.2055760474038, 39.021223809469745], &quot;geometry&quot;: {&quot;coordinates&quot;: [-108.2055760474038, 39.021223809469745], &quot;type&quot;: &quot;Point&quot;}, &quot;id&quot;: &quot;98&quot;, &quot;properties&quot;: {}, &quot;type&quot;: &quot;Feature&quot;}, {&quot;bbox&quot;: [-108.20596514461643, 39.021216185160526, -108.20596514461643, 39.021216185160526], &quot;geometry&quot;: {&quot;coordinates&quot;: [-108.20596514461643, 39.021216185160526], &quot;type&quot;: &quot;Point&quot;}, &quot;id&quot;: &quot;99&quot;, &quot;properties&quot;: {}, &quot;type&quot;: &quot;Feature&quot;}, {&quot;bbox&quot;: [-108.20577441193221, 39.02164342636429, -108.20577441193221, 39.02164342636429], &quot;geometry&quot;: {&quot;coordinates&quot;: [-108.20577441193221, 39.02164342636429], &quot;type&quot;: &quot;Point&quot;}, &quot;id&quot;: &quot;100&quot;, &quot;properties&quot;: {}, &quot;type&quot;: &quot;Feature&quot;}, {&quot;bbox&quot;: [-108.20628557771246, 39.02124289204205, -108.20628557771246, 39.02124289204205], &quot;geometry&quot;: {&quot;coordinates&quot;: [-108.20628557771246, 39.02124289204205], &quot;type&quot;: &quot;Point&quot;}, &quot;id&quot;: &quot;101&quot;, &quot;properties&quot;: {}, &quot;type&quot;: &quot;Feature&quot;}, {&quot;bbox&quot;: [-108.20572863449884, 39.02120473806862, -108.20572863449884, 39.02120473806862], &quot;geometry&quot;: {&quot;coordinates&quot;: [-108.20572863449884, 39.02120473806862], &quot;type&quot;: &quot;Point&quot;}, &quot;id&quot;: &quot;102&quot;, &quot;properties&quot;: {}, &quot;type&quot;: &quot;Feature&quot;}, {&quot;bbox&quot;: [-108.20551501254342, 39.02122380867883, -108.20551501254342, 39.02122380867883], &quot;geometry&quot;: {&quot;coordinates&quot;: [-108.20551501254342, 39.02122380867883], &quot;type&quot;: &quot;Point&quot;}, &quot;id&quot;: &quot;103&quot;, &quot;properties&quot;: {}, &quot;type&quot;: &quot;Feature&quot;}, {&quot;bbox&quot;: [-108.2060795850022, 39.02122381599475, -108.2060795850022, 39.02122381599475], &quot;geometry&quot;: {&quot;coordinates&quot;: [-108.2060795850022, 39.02122381599475], &quot;type&quot;: &quot;Point&quot;}, &quot;id&quot;: &quot;104&quot;, &quot;properties&quot;: {}, &quot;type&quot;: &quot;Feature&quot;}, {&quot;bbox&quot;: [-108.2056904865924, 39.020823270005636, -108.2056904865924, 39.020823270005636], &quot;geometry&quot;: {&quot;coordinates&quot;: [-108.2056904865924, 39.020823270005636], &quot;type&quot;: &quot;Point&quot;}, &quot;id&quot;: &quot;105&quot;, &quot;properties&quot;: {}, &quot;type&quot;: &quot;Feature&quot;}, {&quot;bbox&quot;: [-108.20526324376645, 39.02123143476785, -108.20526324376645, 39.02123143476785], &quot;geometry&quot;: {&quot;coordinates&quot;: [-108.20526324376645, 39.02123143476785], &quot;type&quot;: &quot;Point&quot;}, &quot;id&quot;: &quot;106&quot;, &quot;properties&quot;: {}, &quot;type&quot;: &quot;Feature&quot;}, {&quot;bbox&quot;: [-108.20577441170819, 39.021567132850805, -108.20577441170819, 39.021567132850805], &quot;geometry&quot;: {&quot;coordinates&quot;: [-108.20577441170819, 39.021567132850805], &quot;type&quot;: &quot;Point&quot;}, &quot;id&quot;: &quot;107&quot;, &quot;properties&quot;: {}, &quot;type&quot;: &quot;Feature&quot;}, {&quot;bbox&quot;: [-108.20582781621418, 39.02122762740793, -108.20582781621418, 39.02122762740793], &quot;geometry&quot;: {&quot;coordinates&quot;: [-108.20582781621418, 39.02122762740793], &quot;type&quot;: &quot;Point&quot;}, &quot;id&quot;: &quot;108&quot;, &quot;properties&quot;: {}, &quot;type&quot;: &quot;Feature&quot;}, {&quot;bbox&quot;: [-108.20572100459289, 39.02101781886136, -108.20572100459289, 39.02101781886136], &quot;geometry&quot;: {&quot;coordinates&quot;: [-108.20572100459289, 39.02101781886136], &quot;type&quot;: &quot;Point&quot;}, &quot;id&quot;: &quot;109&quot;, &quot;properties&quot;: {}, &quot;type&quot;: &quot;Feature&quot;}, {&quot;bbox&quot;: [-108.20617876668416, 39.021235261306835, -108.20617876668416, 39.021235261306835], &quot;geometry&quot;: {&quot;coordinates&quot;: [-108.20617876668416, 39.021235261306835], &quot;type&quot;: &quot;Point&quot;}, &quot;id&quot;: &quot;110&quot;, &quot;properties&quot;: {}, &quot;type&quot;: &quot;Feature&quot;}, {&quot;bbox&quot;: [-108.20573626411388, 39.02129247570813, -108.20573626411388, 39.02129247570813], &quot;geometry&quot;: {&quot;coordinates&quot;: [-108.20573626411388, 39.02129247570813], &quot;type&quot;: &quot;Point&quot;}, &quot;id&quot;: &quot;111&quot;, &quot;properties&quot;: {}, &quot;type&quot;: &quot;Feature&quot;}, {&quot;bbox&quot;: [-108.20573626357654, 39.02110937127551, -108.20573626357654, 39.02110937127551], &quot;geometry&quot;: {&quot;coordinates&quot;: [-108.20573626357654, 39.02110937127551], &quot;type&quot;: &quot;Point&quot;}, &quot;id&quot;: &quot;112&quot;, &quot;properties&quot;: {}, &quot;type&quot;: &quot;Feature&quot;}, {&quot;bbox&quot;: [-108.20576678209295, 39.02147939521154, -108.20576678209295, 39.02147939521154], &quot;geometry&quot;: {&quot;coordinates&quot;: [-108.20576678209295, 39.02147939521154], &quot;type&quot;: &quot;Point&quot;}, &quot;id&quot;: &quot;113&quot;, &quot;properties&quot;: {}, &quot;type&quot;: &quot;Feature&quot;}, {&quot;bbox&quot;: [-108.20575152316495, 39.02140691617611, -108.20575152316495, 39.02140691617611], &quot;geometry&quot;: {&quot;coordinates&quot;: [-108.20575152316495, 39.02140691617611], &quot;type&quot;: &quot;Point&quot;}, &quot;id&quot;: &quot;114&quot;, &quot;properties&quot;: {}, &quot;type&quot;: &quot;Feature&quot;}, {&quot;bbox&quot;: [-108.20514117405669, 39.02123524786184, -108.20514117405669, 39.02123524786184], &quot;geometry&quot;: {&quot;coordinates&quot;: [-108.20514117405669, 39.02123524786184], &quot;type&quot;: &quot;Point&quot;}, &quot;id&quot;: &quot;115&quot;, &quot;properties&quot;: {}, &quot;type&quot;: &quot;Feature&quot;}, {&quot;bbox&quot;: [-108.20537768412976, 39.02123143625076, -108.20537768412976, 39.02123143625076], &quot;geometry&quot;: {&quot;coordinates&quot;: [-108.20537768412976, 39.02123143625076], &quot;type&quot;: &quot;Point&quot;}, &quot;id&quot;: &quot;116&quot;, &quot;properties&quot;: {}, &quot;type&quot;: &quot;Feature&quot;}], &quot;type&quot;: &quot;FeatureCollection&quot;});\n",
       "\n",
       "        \n",
       "    \n",
       "    geo_json_97fd405a9da61d362964f2ed02694ead.bindTooltip(\n",
       "    function(layer){\n",
       "    let div = L.DomUtil.create(&#x27;div&#x27;);\n",
       "    \n",
       "    return div\n",
       "    }\n",
       "    ,{&quot;className&quot;: &quot;foliumtooltip&quot;, &quot;sticky&quot;: true});\n",
       "                     \n",
       "    \n",
       "            geo_json_97fd405a9da61d362964f2ed02694ead.addTo(map_78dfec4b63b8da4452bde442ad4c3d43);\n",
       "        \n",
       "&lt;/script&gt;\n",
       "&lt;/html&gt;\" style=\"position:absolute;width:100%;height:100%;left:0;top:0;border:none !important;\" allowfullscreen webkitallowfullscreen mozallowfullscreen></iframe></div></div>"
      ],
      "text/plain": [
       "<folium.folium.Map at 0x7fa479457290>"
      ]
     },
     "execution_count": 6,
     "metadata": {},
     "output_type": "execute_result"
    }
   ],
   "source": [
    "gpd.GeoDataFrame(geometry=gd).explore()"
   ]
  },
  {
   "cell_type": "code",
   "execution_count": 7,
   "id": "82e96364-d000-4b5c-bd84-53f10a388fe5",
   "metadata": {},
   "outputs": [
    {
     "data": {
      "text/plain": [
       "<GeometryArray>\n",
       "[<POINT (742196.842 4322834.371)>, <POINT (742596.589 4322565.257)>,\n",
       "  <POINT (742608.87 4322617.343)>, <POINT (742161.242 4322787.927)>,\n",
       " <POINT (742595.897 4322587.699)>, <POINT (742135.497 4322829.517)>,\n",
       " <POINT (742613.865 4322584.014)>, <POINT (742154.159 4322846.197)>,\n",
       " <POINT (742607.154 4322587.198)>,  <POINT (742151.874 4322877.49)>,\n",
       " ...\n",
       " <POINT (741903.678 4322885.117)>,  <POINT (741900.212 4322847.29)>,\n",
       " <POINT (741910.176 4322824.285)>, <POINT (741869.798 4322847.203)>,\n",
       " <POINT (741907.918 4322854.732)>, <POINT (741908.543 4322834.407)>,\n",
       " <POINT (741904.638 4322875.398)>, <POINT (741906.206 4322867.394)>,\n",
       " <POINT (741959.641 4322849.964)>, <POINT (741939.175 4322848.911)>]\n",
       "Length: 117, dtype: geometry"
      ]
     },
     "execution_count": 7,
     "metadata": {},
     "output_type": "execute_result"
    }
   ],
   "source": [
    "gd"
   ]
  },
  {
   "cell_type": "code",
   "execution_count": 8,
   "id": "2296aece-e43b-497b-81ec-6e943da0fe71",
   "metadata": {},
   "outputs": [],
   "source": [
    "gpdf = gpd.GeoDataFrame(gd, columns = ['location'])"
   ]
  },
  {
   "cell_type": "code",
   "execution_count": 9,
   "id": "f9f3a4c7-4c0f-445b-a05d-ced27558a9d3",
   "metadata": {},
   "outputs": [
    {
     "data": {
      "text/plain": [
       "geopandas.geodataframe.GeoDataFrame"
      ]
     },
     "execution_count": 9,
     "metadata": {},
     "output_type": "execute_result"
    }
   ],
   "source": [
    "type(gpdf)"
   ]
  },
  {
   "cell_type": "code",
   "execution_count": 10,
   "id": "8cfc86d3-b981-4c6a-9901-a2172c653926",
   "metadata": {},
   "outputs": [],
   "source": [
    "gdf.to_file(\"SMPloc4ROI.shp\")"
   ]
  },
  {
   "cell_type": "code",
   "execution_count": null,
   "id": "60e0dbbb-b27e-4ec7-9858-f8970846d93d",
   "metadata": {},
   "outputs": [],
   "source": []
  }
 ],
 "metadata": {
  "kernelspec": {
   "display_name": "Python 3 (ipykernel)",
   "language": "python",
   "name": "python3"
  },
  "language_info": {
   "codemirror_mode": {
    "name": "ipython",
    "version": 3
   },
   "file_extension": ".py",
   "mimetype": "text/x-python",
   "name": "python",
   "nbconvert_exporter": "python",
   "pygments_lexer": "ipython3",
   "version": "3.11.9"
  }
 },
 "nbformat": 4,
 "nbformat_minor": 5
}
